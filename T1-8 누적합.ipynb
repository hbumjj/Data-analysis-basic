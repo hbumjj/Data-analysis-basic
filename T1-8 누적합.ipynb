{
 "cells": [
  {
   "cell_type": "code",
   "execution_count": 2,
   "id": "b1139a78-ba53-41e7-ae4f-b6eae3c42cdb",
   "metadata": {},
   "outputs": [
    {
     "name": "stdout",
     "output_type": "stream",
     "text": [
      "     id   age city    f1  f2   f3    f4         f5\n",
      "0  id01   2.0   서울   NaN   0  NaN  ENFJ  91.297791\n",
      "1  id02   9.0   서울  70.0   1  NaN  ENFJ  60.339826\n",
      "2  id03  27.0   서울  61.0   1  NaN  ISTJ  17.252986\n",
      "3  id04  75.0   서울   NaN   2  NaN  INFP  52.667078\n",
      "4  id05  24.0   서울  85.0   2  NaN  ISFJ  29.269869\n"
     ]
    }
   ],
   "source": [
    "import pandas as pd\n",
    "\n",
    "path = \"C:/Users/rapa/Desktop/빅데이터분석기사실기/basic1(t18).csv\"\n",
    "a = pd.read_csv(path)\n",
    "print(a.head())"
   ]
  },
  {
   "cell_type": "code",
   "execution_count": 22,
   "id": "18c1f87f-4239-4ef7-91a4-b7ad32e6d231",
   "metadata": {
    "scrolled": true
   },
   "outputs": [
    {
     "name": "stdout",
     "output_type": "stream",
     "text": [
      "[70.0, 131.0, 191.0, 292.0, 366.0, 416.0, 483.0, 483.0, 534.0, 534.0, 606.0, 681.0, 738.0, 772.0, 772.0, 849.0, 849.0, 924.0, 1002.0, 1084.0, 1084.0, 1084.0, 1084.0, 1170.0, 1170.0, 1222.0, 1318.0, 1318.0, 1414.0, 1464.0, 1514.0, 1514.0, 1580.0, 1658.0, 1658.0, 1701.0, 1754.0]\n",
      "959.027027027027\n"
     ]
    }
   ],
   "source": [
    "# 정답 방식이 아니다... 억지로 해결\n",
    "\n",
    "data = a[a['f2'] == 1]['f1']\n",
    "\n",
    "arr = []\n",
    "sum_ = 0\n",
    "for i in data:\n",
    "    if str(i) != 'nan':\n",
    "        sum_ += i\n",
    "        arr.append(sum_)\n",
    "    elif str(i) == 'nan':\n",
    "        arr.append(arr[-1])\n",
    "print(arr)\n",
    "print(sum(arr)/len(arr)) "
   ]
  },
  {
   "cell_type": "code",
   "execution_count": 19,
   "id": "b23591c4-6296-46e8-8eb1-62e8a6aaebb4",
   "metadata": {},
   "outputs": [
    {
     "data": {
      "text/plain": [
       "1       70.0\n",
       "2      131.0\n",
       "6      191.0\n",
       "7      292.0\n",
       "9      366.0\n",
       "13     416.0\n",
       "14     483.0\n",
       "16       NaN\n",
       "19     534.0\n",
       "20       NaN\n",
       "21     606.0\n",
       "22     681.0\n",
       "25     738.0\n",
       "27     772.0\n",
       "33       NaN\n",
       "35     849.0\n",
       "37       NaN\n",
       "46     924.0\n",
       "49    1002.0\n",
       "51    1084.0\n",
       "53       NaN\n",
       "55       NaN\n",
       "58       NaN\n",
       "62    1170.0\n",
       "65       NaN\n",
       "66    1222.0\n",
       "69    1318.0\n",
       "72       NaN\n",
       "77    1414.0\n",
       "80    1464.0\n",
       "82    1514.0\n",
       "86       NaN\n",
       "88    1580.0\n",
       "91    1658.0\n",
       "93       NaN\n",
       "94    1701.0\n",
       "95    1754.0\n",
       "Name: f1, dtype: float64"
      ]
     },
     "execution_count": 19,
     "metadata": {},
     "output_type": "execute_result"
    }
   ],
   "source": [
    "# ** a[a['f2'] == 1]['f1'].cumsum() # 누적합을 계산하는 방법\n",
    "# ** df2 = df2.fillna(method = 'bfill') # 뒤에 나오는 값으로 채우기\n",
    "# ** bfill (backfill) ; ffill(forward fill): 전 값으로 채우기\n",
    "\n",
    "df2 = a[a['f2']==1]['f1'].cumsum()\n",
    "df2\n",
    "# df2 = [a]"
   ]
  },
  {
   "cell_type": "code",
   "execution_count": 24,
   "id": "bc5941e3-db7d-4f88-bdb3-a51ae2c6a4d0",
   "metadata": {},
   "outputs": [
    {
     "name": "stderr",
     "output_type": "stream",
     "text": [
      "C:\\Users\\rapa\\AppData\\Local\\Temp\\ipykernel_8632\\2915504282.py:1: FutureWarning: Series.fillna with 'method' is deprecated and will raise in a future version. Use obj.ffill() or obj.bfill() instead.\n",
      "  df2 = df2.fillna(method = 'bfill')\n"
     ]
    },
    {
     "data": {
      "text/plain": [
       "1       70.0\n",
       "2      131.0\n",
       "6      191.0\n",
       "7      292.0\n",
       "9      366.0\n",
       "13     416.0\n",
       "14     483.0\n",
       "16     534.0\n",
       "19     534.0\n",
       "20     606.0\n",
       "21     606.0\n",
       "22     681.0\n",
       "25     738.0\n",
       "27     772.0\n",
       "33     849.0\n",
       "35     849.0\n",
       "37     924.0\n",
       "46     924.0\n",
       "49    1002.0\n",
       "51    1084.0\n",
       "53    1170.0\n",
       "55    1170.0\n",
       "58    1170.0\n",
       "62    1170.0\n",
       "65    1222.0\n",
       "66    1222.0\n",
       "69    1318.0\n",
       "72    1414.0\n",
       "77    1414.0\n",
       "80    1464.0\n",
       "82    1514.0\n",
       "86    1580.0\n",
       "88    1580.0\n",
       "91    1658.0\n",
       "93    1701.0\n",
       "94    1701.0\n",
       "95    1754.0\n",
       "Name: f1, dtype: float64"
      ]
     },
     "execution_count": 24,
     "metadata": {},
     "output_type": "execute_result"
    }
   ],
   "source": [
    "df2 = df2.fillna(method = 'bfill')\n",
    "\n",
    "df2"
   ]
  },
  {
   "cell_type": "code",
   "execution_count": 25,
   "id": "84425dcc-911e-4895-bd9a-e777b400d2d3",
   "metadata": {},
   "outputs": [
    {
     "data": {
      "text/plain": [
       "980.3783783783783"
      ]
     },
     "execution_count": 25,
     "metadata": {},
     "output_type": "execute_result"
    }
   ],
   "source": [
    "df2.mean()"
   ]
  },
  {
   "cell_type": "code",
   "execution_count": null,
   "id": "608bfa04-1b9f-4672-a208-e21f59f35fce",
   "metadata": {},
   "outputs": [],
   "source": []
  }
 ],
 "metadata": {
  "kernelspec": {
   "display_name": "Python 3 (ipykernel)",
   "language": "python",
   "name": "python3"
  },
  "language_info": {
   "codemirror_mode": {
    "name": "ipython",
    "version": 3
   },
   "file_extension": ".py",
   "mimetype": "text/x-python",
   "name": "python",
   "nbconvert_exporter": "python",
   "pygments_lexer": "ipython3",
   "version": "3.11.9"
  }
 },
 "nbformat": 4,
 "nbformat_minor": 5
}
