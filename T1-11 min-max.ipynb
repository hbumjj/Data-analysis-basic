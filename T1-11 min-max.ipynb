{
 "cells": [
  {
   "cell_type": "code",
   "execution_count": 1,
   "id": "7643c3eb-6006-43ab-a3c5-936988596aa6",
   "metadata": {},
   "outputs": [
    {
     "name": "stdout",
     "output_type": "stream",
     "text": [
      "     id   age city    f1  f2   f3    f4         f5\n",
      "0  id01   2.0   서울   NaN   0  NaN  ENFJ  91.297791\n",
      "1  id02   9.0   서울  70.0   1  NaN  ENFJ  60.339826\n",
      "2  id03  27.0   서울  61.0   1  NaN  ISTJ  17.252986\n",
      "3  id04  75.0   서울   NaN   2  NaN  INFP  52.667078\n",
      "4  id05  24.0   서울  85.0   2  NaN  ISFJ  29.269869\n"
     ]
    }
   ],
   "source": [
    "import pandas as pd\n",
    "\n",
    "path = \"C:/Users/rapa/Desktop/빅데이터분석기사실기/basic1(t111).csv\"\n",
    "df = pd.read_csv(path)\n",
    "print(df.head())"
   ]
  },
  {
   "cell_type": "code",
   "execution_count": 5,
   "id": "888d766b-408c-42d9-a11d-f439bc08665d",
   "metadata": {},
   "outputs": [
    {
     "name": "stdout",
     "output_type": "stream",
     "text": [
      "       id    age city    f1  f2   f3    f4         f5         n\n",
      "0    id01    2.0   서울   NaN   0  NaN  ENFJ  91.297791  0.919533\n",
      "1    id02    9.0   서울  70.0   1  NaN  ENFJ  60.339826  0.570252\n",
      "2    id03   27.0   서울  61.0   1  NaN  ISTJ  17.252986  0.084129\n",
      "3    id04   75.0   서울   NaN   2  NaN  INFP  52.667078  0.483685\n",
      "4    id05   24.0   서울  85.0   2  NaN  ISFJ  29.269869  0.219708\n",
      "..    ...    ...  ...   ...  ..  ...   ...        ...       ...\n",
      "95   id96   92.0   경기  53.0   1  NaN  ENTJ  52.667078  0.483685\n",
      "96   id97  100.0   경기   NaN   0  NaN  INFP  67.886373  0.655395\n",
      "97   id98   39.0   경기  58.0   2  NaN  INFP  98.429899  1.000000\n",
      "98   id99    1.0   경기  47.0   0  NaN  ESFJ  97.381034  0.988166\n",
      "99  id100   47.0   경기  53.0   0  vip  ESFP  33.308999  0.265279\n",
      "\n",
      "[100 rows x 9 columns]\n"
     ]
    }
   ],
   "source": [
    "from sklearn.preprocessing import MinMaxScaler\n",
    "# 1열만 수행할 때는 대괄호를 두번 사용한다.\n",
    "\n",
    "mm = MinMaxScaler()\n",
    "\n",
    "df['n'] = mm.fit_transform(df[['f5']])\n",
    "print(df)"
   ]
  },
  {
   "cell_type": "code",
   "execution_count": 8,
   "id": "f0bf23d6-f204-4cdd-9a50-a576fc1e4fc6",
   "metadata": {},
   "outputs": [
    {
     "name": "stdout",
     "output_type": "stream",
     "text": [
      "1.0248740983597389\n"
     ]
    }
   ],
   "source": [
    "low = df['n'].quantile(0.05)\n",
    "high = df['n'].quantile(0.95)\n",
    "\n",
    "\n",
    "print(low + high)"
   ]
  },
  {
   "cell_type": "code",
   "execution_count": null,
   "id": "a50322d6-2186-4a2c-8e58-47d4d1b7a2a3",
   "metadata": {},
   "outputs": [],
   "source": []
  }
 ],
 "metadata": {
  "kernelspec": {
   "display_name": "Python 3 (ipykernel)",
   "language": "python",
   "name": "python3"
  },
  "language_info": {
   "codemirror_mode": {
    "name": "ipython",
    "version": 3
   },
   "file_extension": ".py",
   "mimetype": "text/x-python",
   "name": "python",
   "nbconvert_exporter": "python",
   "pygments_lexer": "ipython3",
   "version": "3.11.9"
  }
 },
 "nbformat": 4,
 "nbformat_minor": 5
}
