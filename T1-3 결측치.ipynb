{
 "cells": [
  {
   "cell_type": "code",
   "execution_count": 4,
   "id": "f8e3bbcd-e860-49e9-9fb2-e3ae1ff446d9",
   "metadata": {},
   "outputs": [
    {
     "name": "stdout",
     "output_type": "stream",
     "text": [
      "     id   age city    f1  f2   f3    f4         f5\n",
      "0  id01   2.0   서울   NaN   0  NaN  ENFJ  91.297791\n",
      "1  id02   9.0   서울  70.0   1  NaN  ENFJ  60.339826\n",
      "2  id03  27.0   서울  61.0   1  NaN  ISTJ  17.252986\n",
      "3  id04  75.0   서울   NaN   2  NaN  INFP  52.667078\n",
      "4  id05  24.0   서울  85.0   2  NaN  ISFJ  29.269869\n",
      "     id   age city    f1  f2    f4         f5\n",
      "0  id01   2.0   서울  68.0   0  ENFJ  91.297791\n",
      "1  id02   9.0   서울  70.0   1  ENFJ  60.339826\n",
      "2  id03  27.0   서울  61.0   1  ISTJ  17.252986\n",
      "3  id04  75.0   서울  68.0   2  INFP  52.667078\n",
      "4  id05  24.0   서울  85.0   2  ISFJ  29.269869\n",
      "65.52\n"
     ]
    }
   ],
   "source": [
    "import pandas as pd\n",
    "data = pd.read_csv(\"C:/Users/rapa/Desktop/빅데이터분석기사실기/basic1(20).csv\")\n",
    "print(data.head())\n",
    "\n",
    "columns = list(data.columns)\n",
    "\n",
    "# ** isnull()에 대해서 암기\n",
    "# ** fillna()에 대해서 암기\n",
    "# ** groupby # data.groupby('city')['f1'].median()\n",
    "\n",
    "\n",
    "k,d,b,s = data.groupby('city')['f1'].median()\n",
    "\n",
    "\n",
    "for c in columns:\n",
    "     # 80% 이상되는 컬럼 확인\n",
    "    if sum(data[c].isnull())/len(data[c]) >= 0.80:\n",
    "        #print(c)\n",
    "        data = data.drop(labels = c, axis = 1)\n",
    "    else:\n",
    "        if data[c].isnull().sum() != 0:\n",
    "            \n",
    "            data[c] = data[c].fillna(data['city'].map({'서울':s, '경기': k, '부산': b, '대구': d}))\n",
    "\n",
    "print(data.head())\n",
    "\n",
    "print(data['f1'].mean())"
   ]
  },
  {
   "cell_type": "code",
   "execution_count": 6,
   "id": "a3819ee3-43b0-4ab9-b46b-822d5ce8a7a3",
   "metadata": {},
   "outputs": [
    {
     "data": {
      "text/plain": [
       "id      0\n",
       "age     0\n",
       "city    0\n",
       "f1      0\n",
       "f2      0\n",
       "f4      0\n",
       "f5      0\n",
       "dtype: int64"
      ]
     },
     "execution_count": 6,
     "metadata": {},
     "output_type": "execute_result"
    }
   ],
   "source": [
    "data.isnull().sum()"
   ]
  },
  {
   "cell_type": "code",
   "execution_count": 7,
   "id": "bebbc2ac-13dc-4f52-9dc4-4009eb0a7426",
   "metadata": {},
   "outputs": [
    {
     "data": {
      "text/plain": [
       "city\n",
       "경기    58.0\n",
       "대구    75.0\n",
       "부산    62.0\n",
       "서울    68.0\n",
       "Name: f1, dtype: float64"
      ]
     },
     "execution_count": 7,
     "metadata": {},
     "output_type": "execute_result"
    }
   ],
   "source": [
    "data.groupby('city')['f1'].median()\n"
   ]
  },
  {
   "cell_type": "code",
   "execution_count": 11,
   "id": "28b3c2e3-31ff-4eee-a2c6-948383156d30",
   "metadata": {},
   "outputs": [
    {
     "name": "stdout",
     "output_type": "stream",
     "text": [
      "     id   age city    f1  f2    f4         f5\n",
      "0  id01   2.0   서울  68.0   0  ENFJ  91.297791\n",
      "1  id02   9.0   서울  70.0   1  ENFJ  60.339826\n",
      "2  id03  27.0   서울  61.0   1  ISTJ  17.252986\n",
      "3  id04  75.0   서울  68.0   2  INFP  52.667078\n",
      "4  id05  24.0   서울  85.0   2  ISFJ  29.269869\n"
     ]
    },
    {
     "data": {
      "text/plain": [
       "0     68.0\n",
       "1     68.0\n",
       "2     68.0\n",
       "3     68.0\n",
       "4     68.0\n",
       "      ... \n",
       "95    58.0\n",
       "96    58.0\n",
       "97    58.0\n",
       "98    58.0\n",
       "99    58.0\n",
       "Name: city, Length: 100, dtype: float64"
      ]
     },
     "execution_count": 11,
     "metadata": {},
     "output_type": "execute_result"
    }
   ],
   "source": [
    "# 맵 함수 사용\n",
    "print(data.head())\n",
    "data['city'].map({'서울':s,'경기':k,'부산':b,'대구':d})\n",
    "\n",
    "# city내의 각 도시 별로 mapping 해준다. 이부분이 핵심"
   ]
  },
  {
   "cell_type": "code",
   "execution_count": null,
   "id": "f03b568d-9a96-4647-afc8-1464f20c1088",
   "metadata": {},
   "outputs": [],
   "source": []
  }
 ],
 "metadata": {
  "kernelspec": {
   "display_name": "Python 3 (ipykernel)",
   "language": "python",
   "name": "python3"
  },
  "language_info": {
   "codemirror_mode": {
    "name": "ipython",
    "version": 3
   },
   "file_extension": ".py",
   "mimetype": "text/x-python",
   "name": "python",
   "nbconvert_exporter": "python",
   "pygments_lexer": "ipython3",
   "version": "3.11.9"
  }
 },
 "nbformat": 4,
 "nbformat_minor": 5
}
