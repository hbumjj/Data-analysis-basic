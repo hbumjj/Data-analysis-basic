{
 "cells": [
  {
   "cell_type": "code",
   "execution_count": 1,
   "id": "62e24dbe-d8c1-4dfb-9d6d-ca58c5aa8ef5",
   "metadata": {},
   "outputs": [
    {
     "data": {
      "text/html": [
       "<div>\n",
       "<style scoped>\n",
       "    .dataframe tbody tr th:only-of-type {\n",
       "        vertical-align: middle;\n",
       "    }\n",
       "\n",
       "    .dataframe tbody tr th {\n",
       "        vertical-align: top;\n",
       "    }\n",
       "\n",
       "    .dataframe thead th {\n",
       "        text-align: right;\n",
       "    }\n",
       "</style>\n",
       "<table border=\"1\" class=\"dataframe\">\n",
       "  <thead>\n",
       "    <tr style=\"text-align: right;\">\n",
       "      <th></th>\n",
       "      <th>id</th>\n",
       "      <th>age</th>\n",
       "      <th>city</th>\n",
       "      <th>f1</th>\n",
       "      <th>f2</th>\n",
       "      <th>f3</th>\n",
       "      <th>f4</th>\n",
       "      <th>f5</th>\n",
       "    </tr>\n",
       "  </thead>\n",
       "  <tbody>\n",
       "    <tr>\n",
       "      <th>0</th>\n",
       "      <td>id01</td>\n",
       "      <td>2.0</td>\n",
       "      <td>서울</td>\n",
       "      <td>NaN</td>\n",
       "      <td>0</td>\n",
       "      <td>NaN</td>\n",
       "      <td>ENFJ</td>\n",
       "      <td>91.297791</td>\n",
       "    </tr>\n",
       "    <tr>\n",
       "      <th>1</th>\n",
       "      <td>id02</td>\n",
       "      <td>9.0</td>\n",
       "      <td>서울</td>\n",
       "      <td>70.0</td>\n",
       "      <td>1</td>\n",
       "      <td>NaN</td>\n",
       "      <td>ENFJ</td>\n",
       "      <td>60.339826</td>\n",
       "    </tr>\n",
       "    <tr>\n",
       "      <th>2</th>\n",
       "      <td>id03</td>\n",
       "      <td>27.0</td>\n",
       "      <td>서울</td>\n",
       "      <td>61.0</td>\n",
       "      <td>1</td>\n",
       "      <td>NaN</td>\n",
       "      <td>ISTJ</td>\n",
       "      <td>17.252986</td>\n",
       "    </tr>\n",
       "    <tr>\n",
       "      <th>3</th>\n",
       "      <td>id04</td>\n",
       "      <td>75.0</td>\n",
       "      <td>서울</td>\n",
       "      <td>NaN</td>\n",
       "      <td>2</td>\n",
       "      <td>NaN</td>\n",
       "      <td>INFP</td>\n",
       "      <td>52.667078</td>\n",
       "    </tr>\n",
       "    <tr>\n",
       "      <th>4</th>\n",
       "      <td>id05</td>\n",
       "      <td>24.0</td>\n",
       "      <td>서울</td>\n",
       "      <td>85.0</td>\n",
       "      <td>2</td>\n",
       "      <td>NaN</td>\n",
       "      <td>ISFJ</td>\n",
       "      <td>29.269869</td>\n",
       "    </tr>\n",
       "  </tbody>\n",
       "</table>\n",
       "</div>"
      ],
      "text/plain": [
       "     id   age city    f1  f2   f3    f4         f5\n",
       "0  id01   2.0   서울   NaN   0  NaN  ENFJ  91.297791\n",
       "1  id02   9.0   서울  70.0   1  NaN  ENFJ  60.339826\n",
       "2  id03  27.0   서울  61.0   1  NaN  ISTJ  17.252986\n",
       "3  id04  75.0   서울   NaN   2  NaN  INFP  52.667078\n",
       "4  id05  24.0   서울  85.0   2  NaN  ISFJ  29.269869"
      ]
     },
     "execution_count": 1,
     "metadata": {},
     "output_type": "execute_result"
    }
   ],
   "source": [
    "import pandas as pd\n",
    "\n",
    "path = \"C:/Users/rapa/Desktop/빅데이터분석기사실기/basic1(t114).csv\"\n",
    "\n",
    "df = pd.read_csv(path)\n",
    "df.head()"
   ]
  },
  {
   "cell_type": "code",
   "execution_count": 4,
   "id": "3dcec111-e0eb-4c43-bb66-3c803406b9e8",
   "metadata": {},
   "outputs": [
    {
     "name": "stdout",
     "output_type": "stream",
     "text": [
      "      id    age city    f1  f2   f3    f4         f5\n",
      "96  id97  100.0   경기   NaN   0  NaN  INFP  67.886373\n",
      "36  id37  100.0   부산   NaN   0  NaN  ESTP  33.308999\n",
      "44  id45   97.0   대구  88.0   0  NaN  ENFJ  13.049921\n",
      "51  id52   97.0   대구  82.0   1  NaN  ISFJ  90.496999\n",
      "91  id92   97.0   경기  78.0   1  NaN  INFP  97.381034\n",
      "9   id10   95.0   서울  74.0   1  NaN  ISFP  98.429899\n",
      "45  id46   93.0   대구   NaN   0  NaN  ESTJ  67.886373\n",
      "77  id78   92.0   경기  96.0   1  NaN  INTJ  69.730313\n",
      "95  id96   92.0   경기  53.0   1  NaN  ENTJ  52.667078\n",
      "72  id73   90.0   경기   NaN   1  NaN  ISFJ  73.586397\n",
      "20  id21   90.0   부산   NaN   1  NaN  ISFP  29.269869\n",
      "87  id88   89.0   경기  75.0   0  NaN  ESTJ  60.339826\n",
      "62  id63   88.0   경기  86.0   1  NaN  ISFJ  73.586397\n",
      "65  id66   87.0   경기   NaN   1  NaN  ISFP  17.252986\n",
      "37  id38   87.0   부산   NaN   1  NaN  ESTP  83.685380\n",
      "60  id61   87.0   경기  62.0   2  NaN  INTP  69.730313\n",
      "49  id50   86.0   대구  78.0   1  NaN  ENFP  60.339826\n",
      "80  id81   86.0   경기  50.0   1  NaN  ISFJ  37.113739\n",
      "30  id31   86.0   부산  77.0   0  NaN  ESFJ  73.586397\n",
      "93  id94   84.0   경기   NaN   1  NaN  ESTJ  90.496999\n"
     ]
    }
   ],
   "source": [
    "df2 = df.sort_values(by = 'age', ascending = False)\n",
    "df2 = df2.iloc[:20]\n",
    "\n",
    "print(df2)"
   ]
  },
  {
   "cell_type": "code",
   "execution_count": 13,
   "id": "6d64b371-65f4-4301-b65e-b18e77f064cc",
   "metadata": {},
   "outputs": [
    {
     "name": "stdout",
     "output_type": "stream",
     "text": [
      "      id    age city    f1  f2   f3    f4         f5\n",
      "96  id97  100.0   경기  77.5   0  NaN  INFP  67.886373\n",
      "36  id37  100.0   부산  77.5   0  NaN  ESTP  33.308999\n",
      "44  id45   97.0   대구  88.0   0  NaN  ENFJ  13.049921\n",
      "51  id52   97.0   대구  82.0   1  NaN  ISFJ  90.496999\n",
      "91  id92   97.0   경기  78.0   1  NaN  INFP  97.381034\n",
      "9   id10   95.0   서울  74.0   1  NaN  ISFP  98.429899\n",
      "45  id46   93.0   대구  77.5   0  NaN  ESTJ  67.886373\n",
      "77  id78   92.0   경기  96.0   1  NaN  INTJ  69.730313\n",
      "95  id96   92.0   경기  53.0   1  NaN  ENTJ  52.667078\n",
      "72  id73   90.0   경기  77.5   1  NaN  ISFJ  73.586397\n",
      "20  id21   90.0   부산  77.5   1  NaN  ISFP  29.269869\n",
      "87  id88   89.0   경기  75.0   0  NaN  ESTJ  60.339826\n",
      "62  id63   88.0   경기  86.0   1  NaN  ISFJ  73.586397\n",
      "65  id66   87.0   경기  77.5   1  NaN  ISFP  17.252986\n",
      "37  id38   87.0   부산  77.5   1  NaN  ESTP  83.685380\n",
      "60  id61   87.0   경기  62.0   2  NaN  INTP  69.730313\n",
      "49  id50   86.0   대구  78.0   1  NaN  ENFP  60.339826\n",
      "80  id81   86.0   경기  50.0   1  NaN  ISFJ  37.113739\n",
      "30  id31   86.0   부산  77.0   0  NaN  ESFJ  73.586397\n",
      "93  id94   84.0   경기  77.5   1  NaN  ESTJ  90.496999\n"
     ]
    }
   ],
   "source": [
    "# f1 결측치를 중앙값으로 채운다.\n",
    "\n",
    "df2['f1'] = df2['f1'].fillna(df2['f1'].median())\n",
    "\n",
    "print(df2)"
   ]
  },
  {
   "cell_type": "code",
   "execution_count": 15,
   "id": "2e31dd41-60f0-4543-b918-7c1deadbb67d",
   "metadata": {},
   "outputs": [
    {
     "name": "stdout",
     "output_type": "stream",
     "text": [
      "73.875\n"
     ]
    }
   ],
   "source": [
    "# f4가 isfj와 20 이상인 f1의 평균값\n",
    "\n",
    "df3 = df2[(df2['f4'] == 'ISFJ') & (df2['f5'] >= 20)]['f1']\n",
    "\n",
    "print(df3.mean())"
   ]
  },
  {
   "cell_type": "code",
   "execution_count": null,
   "id": "72fc009c-cd6c-4e9c-ab2e-ddae43e698db",
   "metadata": {},
   "outputs": [],
   "source": []
  }
 ],
 "metadata": {
  "kernelspec": {
   "display_name": "Python 3 (ipykernel)",
   "language": "python",
   "name": "python3"
  },
  "language_info": {
   "codemirror_mode": {
    "name": "ipython",
    "version": 3
   },
   "file_extension": ".py",
   "mimetype": "text/x-python",
   "name": "python",
   "nbconvert_exporter": "python",
   "pygments_lexer": "ipython3",
   "version": "3.11.9"
  }
 },
 "nbformat": 4,
 "nbformat_minor": 5
}
